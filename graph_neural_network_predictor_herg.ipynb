{
 "cells": [
  {
   "cell_type": "code",
   "execution_count": 2,
   "outputs": [
    {
     "data": {
      "text/plain": "\"\\n###\\n#this csv include wrongly definite SMILE data and dgl library cannot work properly with them (eg include {,} etc...)\\n##\\nimport pandas as pd\\ndf=pd.read_csv('data/train_validation_cardio_tox_data.csv')\\ndf.head()\\n\""
     },
     "execution_count": 2,
     "metadata": {},
     "output_type": "execute_result"
    }
   ],
   "source": [
    "\"\"\"\n",
    "###\n",
    "#this csv include wrongly definite SMILE data and dgl library cannot work properly with them (eg include {,} etc...)\n",
    "##\n",
    "import pandas as pd\n",
    "df=pd.read_csv('data/train_validation_cardio_tox_data.csv')\n",
    "df.head()\n",
    "\"\"\""
   ],
   "metadata": {
    "collapsed": false,
    "pycharm": {
     "name": "#%%\n"
    }
   }
  },
  {
   "cell_type": "code",
   "execution_count": 3,
   "outputs": [],
   "source": [
    "#import data to dataframe from csv\n",
    "import pandas as pd\n",
    "df_1=pd.read_csv('data/external_test_set_neg.csv')\n",
    "df_2=pd.read_csv('data/external_test_set_new.csv')\n",
    "df_3=pd.read_csv('data/external_test_set_pos.csv')\n",
    "frames = [df_1, df_2, df_3]\n",
    "df = pd.concat(frames)"
   ],
   "metadata": {
    "collapsed": false,
    "pycharm": {
     "name": "#%%\n"
    }
   }
  },
  {
   "cell_type": "code",
   "execution_count": 4,
   "outputs": [],
   "source": [
    "# read data with smiles\n",
    "smiles_postive= []\n",
    "smiles_negative = []\n",
    "acitivity = df['ACTIVITY'].tolist()\n",
    "smiles = df['smiles'].tolist()\n",
    "for i in range (0, len(smiles), 1):\n",
    "    if smiles[i]!='{' or '}':\n",
    "        if acitivity[i] == 0:\n",
    "            smiles_negative.append(smiles[i])\n",
    "        if acitivity[i] == 1:\n",
    "            smiles_postive.append(smiles[i])\n",
    "\n"
   ],
   "metadata": {
    "collapsed": false,
    "pycharm": {
     "name": "#%%\n"
    }
   }
  },
  {
   "cell_type": "code",
   "execution_count": 5,
   "outputs": [],
   "source": [
    "import dgl\n",
    "from dgl.data import DGLDataset\n",
    "import torch\n",
    "import torch as th\n",
    "import os\n",
    "from ogb.utils.features import (allowable_features, atom_to_feature_vector,\n",
    " bond_to_feature_vector, atom_feature_vector_to_dict, bond_feature_vector_to_dict)\n",
    "from rdkit import Chem\n",
    "import numpy as np"
   ],
   "metadata": {
    "collapsed": false,
    "pycharm": {
     "name": "#%%\n"
    }
   }
  },
  {
   "cell_type": "code",
   "execution_count": 6,
   "outputs": [],
   "source": [
    "def smiles2graph(smiles_string):\n",
    "    \"\"\"\n",
    "    Converts SMILES string to graph Data object\n",
    "    :input: SMILES string (str)\n",
    "    :return: graph object\n",
    "    \"\"\"\n",
    "\n",
    "    mol = Chem.MolFromSmiles(smiles_string)\n",
    "\n",
    "    A = Chem.GetAdjacencyMatrix(mol)\n",
    "    A = np.asmatrix(A)\n",
    "    nnodes=len(A)\n",
    "    nz = np.nonzero(A)\n",
    "    edge_list=[]\n",
    "    src=[]\n",
    "    dst=[]\n",
    "\n",
    "    for i in range(nz[0].shape[0]):\n",
    "      src.append(nz[0][i])\n",
    "      dst.append(nz[1][i])\n",
    "\n",
    "    u, v = src, dst\n",
    "    g = dgl.graph((u, v))\n",
    "    bg=dgl.to_bidirected(g)\n",
    "\n",
    "    return bg"
   ],
   "metadata": {
    "collapsed": false,
    "pycharm": {
     "name": "#%%\n"
    }
   }
  },
  {
   "cell_type": "code",
   "execution_count": 7,
   "outputs": [],
   "source": [
    "def feat_vec(smiles_string):\n",
    "    \"\"\"\n",
    "    Returns atom features for a molecule given a smiles string\n",
    "    \"\"\"\n",
    "    # atoms\n",
    "    mol = Chem.MolFromSmiles(smiles_string)\n",
    "    atom_features_list = []\n",
    "    for atom in mol.GetAtoms():\n",
    "        atom_features_list.append(atom_to_feature_vector(atom))\n",
    "    x = np.array(atom_features_list, dtype = np.int64)\n",
    "    return x"
   ],
   "metadata": {
    "collapsed": false,
    "pycharm": {
     "name": "#%%\n"
    }
   }
  },
  {
   "cell_type": "code",
   "execution_count": 8,
   "outputs": [],
   "source": [
    "# This block makes a list of graphs\n",
    "lista_mols_positive=smiles_postive\n",
    "\n",
    "j=0\n",
    "graphs_positive=[]\n",
    "execptions_positive=[]\n",
    "for mol in lista_mols_positive:\n",
    "\n",
    "  g_mol=smiles2graph(mol)\n",
    "\n",
    "  try:\n",
    "    g_mol.ndata['feat']=torch.tensor(feat_vec(mol))\n",
    "  except:\n",
    "    execptions_positive.append(j)\n",
    "\n",
    "\n",
    "  graphs_positive.append(g_mol)\n",
    "  j+=1"
   ],
   "metadata": {
    "collapsed": false,
    "pycharm": {
     "name": "#%%\n"
    }
   }
  },
  {
   "cell_type": "code",
   "execution_count": 9,
   "outputs": [],
   "source": [
    "#Positive =>Toxic\n",
    "labels_positive=[]\n",
    "\n",
    "for item in lista_mols_positive:\n",
    "    labels_positive.append(1)\n"
   ],
   "metadata": {
    "collapsed": false,
    "pycharm": {
     "name": "#%%\n"
    }
   }
  },
  {
   "cell_type": "code",
   "execution_count": 10,
   "outputs": [],
   "source": [
    "#Negative\n",
    "lista_mols_negative=smiles_negative\n",
    "\n",
    "j=0\n",
    "graphs_negative=[]\n",
    "execptions_negative=[]\n",
    "for mol in lista_mols_positive:\n",
    "\n",
    "  g_mol=smiles2graph(mol)\n",
    "\n",
    "  try:\n",
    "    g_mol.ndata['feat']=torch.tensor(feat_vec(mol))\n",
    "  except:\n",
    "    execptions_negative.append(j)\n",
    "\n",
    "\n",
    "  graphs_negative.append(g_mol)\n",
    "  j+=1"
   ],
   "metadata": {
    "collapsed": false,
    "pycharm": {
     "name": "#%%\n"
    }
   }
  },
  {
   "cell_type": "code",
   "execution_count": 11,
   "outputs": [],
   "source": [
    "#Negative =>Non-Toxic\n",
    "labels_negative=[]\n",
    "\n",
    "for item in lista_mols_negative:\n",
    "    labels_negative.append(0)"
   ],
   "metadata": {
    "collapsed": false,
    "pycharm": {
     "name": "#%%\n"
    }
   }
  },
  {
   "cell_type": "code",
   "execution_count": 12,
   "outputs": [],
   "source": [
    "graphs = graphs_positive + graphs_negative\n",
    "labels = labels_positive + labels_negative\n",
    "execptions = execptions_negative + execptions_positive\n",
    "graphs = graphs[:len(labels)]\n"
   ],
   "metadata": {
    "collapsed": false,
    "pycharm": {
     "name": "#%%\n"
    }
   }
  },
  {
   "cell_type": "code",
   "execution_count": 13,
   "outputs": [],
   "source": [
    "# Some smiles are not well processed, so they are droped\n",
    "ii=0\n",
    "for i in execptions:\n",
    "  graphs.pop(i-ii)\n",
    "  labels.pop(i-ii)\n",
    "  ii+=1"
   ],
   "metadata": {
    "collapsed": false,
    "pycharm": {
     "name": "#%%\n"
    }
   }
  },
  {
   "cell_type": "code",
   "execution_count": 14,
   "outputs": [],
   "source": [
    "i=0\n",
    "for grap in graphs:\n",
    "\n",
    "  try:\n",
    "    grap.ndata['feat']\n",
    "  except:\n",
    "    print(i)\n",
    "  i+=1"
   ],
   "metadata": {
    "collapsed": false,
    "pycharm": {
     "name": "#%%\n"
    }
   }
  },
  {
   "cell_type": "code",
   "execution_count": 15,
   "outputs": [],
   "source": [
    "import dgl\n",
    "import torch\n",
    "import torch.nn as nn\n",
    "import torch.nn.functional as F"
   ],
   "metadata": {
    "collapsed": false,
    "pycharm": {
     "name": "#%%\n"
    }
   }
  },
  {
   "cell_type": "code",
   "execution_count": 16,
   "outputs": [],
   "source": [
    "class SyntheticDataset(DGLDataset):\n",
    "    def __init__(self):\n",
    "        super().__init__(name='synthetic')\n",
    "\n",
    "    def process(self):\n",
    "        #edges = pd.read_csv('./graph_edges.csv')\n",
    "        #properties = pd.read_csv('./graph_properties.csv')\n",
    "        self.graphs = graphs\n",
    "        self.labels = torch.LongTensor(labels)\n",
    "\n",
    "    def __getitem__(self, i):\n",
    "        return self.graphs[i], self.labels[i]\n",
    "\n",
    "    def __len__(self):\n",
    "        return len(self.graphs)\n",
    "\n",
    "dataset = SyntheticDataset()\n",
    "#graph, label = dataset[0]\n",
    "#print(graph, label)"
   ],
   "metadata": {
    "collapsed": false,
    "pycharm": {
     "name": "#%%\n"
    }
   }
  },
  {
   "cell_type": "code",
   "execution_count": 17,
   "outputs": [],
   "source": [
    "from dgl.dataloading import GraphDataLoader\n",
    "from torch.utils.data.sampler import SubsetRandomSampler\n",
    "\n",
    "num_examples = len(dataset)\n",
    "num_train = int(num_examples * 0.8)\n",
    "\n",
    "train_sampler = SubsetRandomSampler(torch.arange(num_train))\n",
    "test_sampler = SubsetRandomSampler(torch.arange(num_train, num_examples))\n",
    "\n",
    "train_dataloader = GraphDataLoader(\n",
    "    dataset, sampler=train_sampler, batch_size=5, drop_last=False)\n",
    "test_dataloader = GraphDataLoader(\n",
    "    dataset, sampler=test_sampler, batch_size=5, drop_last=False)"
   ],
   "metadata": {
    "collapsed": false,
    "pycharm": {
     "name": "#%%\n"
    }
   }
  },
  {
   "cell_type": "code",
   "execution_count": 18,
   "outputs": [],
   "source": [
    "import dgl\n",
    "import torch\n",
    "import torch.nn as nn\n",
    "import torch.nn.functional as F"
   ],
   "metadata": {
    "collapsed": false,
    "pycharm": {
     "name": "#%%\n"
    }
   }
  },
  {
   "cell_type": "code",
   "execution_count": 19,
   "outputs": [],
   "source": [
    "from dgl.nn import GraphConv\n",
    "\n",
    "class GCN(nn.Module):\n",
    "    def __init__(self, in_feats, h_feats, num_classes):\n",
    "        super(GCN, self).__init__()\n",
    "        self.conv1 = GraphConv(in_feats, h_feats)\n",
    "        self.conv2 = GraphConv(h_feats, num_classes)\n",
    "\n",
    "    def forward(self, g, in_feat):\n",
    "        h = self.conv1(g, in_feat)\n",
    "        h = F.relu(h)\n",
    "        h = self.conv2(g, h)\n",
    "        g.ndata['h'] = h\n",
    "        return dgl.mean_nodes(g, 'h')"
   ],
   "metadata": {
    "collapsed": false,
    "pycharm": {
     "name": "#%%\n"
    }
   }
  },
  {
   "cell_type": "code",
   "execution_count": 20,
   "outputs": [
    {
     "name": "stdout",
     "output_type": "stream",
     "text": [
      "Epoch : 1, train accuracy : 0.5249999761581421, train loss : 0.9571995139122009\n",
      "Epoch : 2, train accuracy : 0.6250001192092896, train loss : 0.6667819619178772\n",
      "Epoch : 3, train accuracy : 0.625, train loss : 0.6718767881393433\n",
      "Epoch : 4, train accuracy : 0.6250000596046448, train loss : 0.6636510491371155\n",
      "Epoch : 5, train accuracy : 0.6166667342185974, train loss : 0.660469114780426\n",
      "Epoch : 6, train accuracy : 0.6166666150093079, train loss : 0.6615277528762817\n",
      "Epoch : 7, train accuracy : 0.6333333253860474, train loss : 0.6610697507858276\n",
      "Epoch : 8, train accuracy : 0.6333333849906921, train loss : 0.6636439561843872\n",
      "Epoch : 9, train accuracy : 0.6333334445953369, train loss : 0.6662455201148987\n",
      "Epoch : 10, train accuracy : 0.6166666746139526, train loss : 0.6625040769577026\n",
      "Epoch : 11, train accuracy : 0.625, train loss : 0.664335310459137\n",
      "Epoch : 12, train accuracy : 0.6333333253860474, train loss : 0.6676678657531738\n",
      "Epoch : 13, train accuracy : 0.6000000834465027, train loss : 0.6696485877037048\n",
      "Epoch : 14, train accuracy : 0.6166665554046631, train loss : 0.6647982001304626\n",
      "Epoch : 15, train accuracy : 0.6250000596046448, train loss : 0.6577591896057129\n",
      "Epoch : 16, train accuracy : 0.625, train loss : 0.6724149584770203\n",
      "Epoch : 17, train accuracy : 0.6249998807907104, train loss : 0.6627704501152039\n",
      "Epoch : 18, train accuracy : 0.6166666746139526, train loss : 0.6643306016921997\n",
      "Epoch : 19, train accuracy : 0.6250000596046448, train loss : 0.6632890105247498\n",
      "Epoch : 20, train accuracy : 0.6250001192092896, train loss : 0.6591100692749023\n",
      "Epoch : 21, train accuracy : 0.625, train loss : 0.6586595177650452\n",
      "Epoch : 22, train accuracy : 0.625, train loss : 0.6586511731147766\n",
      "Epoch : 23, train accuracy : 0.625, train loss : 0.6582804322242737\n",
      "Epoch : 24, train accuracy : 0.6250000596046448, train loss : 0.6619828939437866\n",
      "Epoch : 25, train accuracy : 0.6249999403953552, train loss : 0.6605618596076965\n",
      "Epoch : 26, train accuracy : 0.6250000596046448, train loss : 0.6614930033683777\n",
      "Epoch : 27, train accuracy : 0.6249998807907104, train loss : 0.6682928800582886\n",
      "Epoch : 28, train accuracy : 0.6249999403953552, train loss : 0.6590985655784607\n",
      "Epoch : 29, train accuracy : 0.625, train loss : 0.6613227128982544\n",
      "Epoch : 30, train accuracy : 0.6250000596046448, train loss : 0.6587885618209839\n",
      "Epoch : 31, train accuracy : 0.6249998807907104, train loss : 0.6634436845779419\n",
      "Epoch : 32, train accuracy : 0.625, train loss : 0.6605387330055237\n",
      "Epoch : 33, train accuracy : 0.6249999403953552, train loss : 0.6629769206047058\n",
      "Epoch : 34, train accuracy : 0.6166667938232422, train loss : 0.6628621816635132\n",
      "Epoch : 35, train accuracy : 0.625, train loss : 0.659240186214447\n",
      "Epoch : 36, train accuracy : 0.6250000596046448, train loss : 0.6637632250785828\n",
      "Epoch : 37, train accuracy : 0.6250000596046448, train loss : 0.6614805459976196\n",
      "Epoch : 38, train accuracy : 0.6166666746139526, train loss : 0.6654841899871826\n",
      "Epoch : 39, train accuracy : 0.625, train loss : 0.6581272482872009\n",
      "Epoch : 40, train accuracy : 0.6250000596046448, train loss : 0.656535804271698\n",
      "Epoch : 41, train accuracy : 0.6166666746139526, train loss : 0.662269115447998\n",
      "Epoch : 42, train accuracy : 0.6166667342185974, train loss : 0.6623729467391968\n",
      "Epoch : 43, train accuracy : 0.6250000596046448, train loss : 0.6572208404541016\n",
      "Epoch : 44, train accuracy : 0.625, train loss : 0.6693131327629089\n",
      "Epoch : 45, train accuracy : 0.625, train loss : 0.6590648889541626\n",
      "Epoch : 46, train accuracy : 0.6250000596046448, train loss : 0.6604143381118774\n",
      "Epoch : 47, train accuracy : 0.625, train loss : 0.6557651162147522\n",
      "Epoch : 48, train accuracy : 0.625, train loss : 0.6579384803771973\n",
      "Epoch : 49, train accuracy : 0.6166667342185974, train loss : 0.658375084400177\n",
      "Epoch : 50, train accuracy : 0.6166667342185974, train loss : 0.6557976603507996\n"
     ]
    }
   ],
   "source": [
    "# Create the model with given dimensions\n",
    "model = GCN(9, 8, 2)\n",
    "optimizer = torch.optim.Adam(model.parameters(), lr=0.01)\n",
    "\n",
    "\n",
    "model.train()\n",
    "for epoch in range(50):\n",
    "    epoch_loss = 0\n",
    "    epoch_accuracy = 0\n",
    "    for batched_graph, labels in train_dataloader:\n",
    "        pred = model(batched_graph, batched_graph.ndata['feat'].float())\n",
    "        #print(pred,labels)\n",
    "        loss = F.cross_entropy(pred, labels)\n",
    "        optimizer.zero_grad()\n",
    "        loss.backward()\n",
    "        optimizer.step()\n",
    "\n",
    "        acc = ((pred.argmax(dim=1) == labels).float().mean())\n",
    "        epoch_accuracy += acc/len(train_dataloader)\n",
    "        epoch_loss += loss/len(train_dataloader)\n",
    "    print('Epoch : {}, train accuracy : {}, train loss : {}'.format(epoch+1, epoch_accuracy,epoch_loss))\n",
    "\n",
    "num_correct = 0\n",
    "num_tests = 0\n",
    "for batched_graph, labels in test_dataloader:\n",
    "    pred = model(batched_graph, batched_graph.ndata['feat'].float())\n",
    "\n",
    "    num_correct += (pred.argmax(1) == labels).sum().item()\n",
    "    num_tests += len(labels)\n",
    "\n"
   ],
   "metadata": {
    "collapsed": false,
    "pycharm": {
     "name": "#%%\n"
    }
   }
  },
  {
   "cell_type": "code",
   "execution_count": 21,
   "outputs": [
    {
     "name": "stdout",
     "output_type": "stream",
     "text": [
      "Toxic\n"
     ]
    }
   ],
   "source": [
    "def transform_smile(string):\n",
    "    graph=smiles2graph(string)\n",
    "    graph.ndata['feat']=torch.tensor(feat_vec(string))\n",
    "    return graph\n",
    "\n",
    "\n",
    "\n",
    "def get_prediction(string)->int:\n",
    " foo = transform_smile(string)\n",
    " pred = model(foo, foo.ndata['feat'].float())\n",
    " result = int(pred.argmax(1))\n",
    " return result\n",
    "\n",
    "def answear(smile):\n",
    "    value = get_prediction(smile)\n",
    "    if value == 1:\n",
    "        result = 'Toxic'\n",
    "    if value == 0:\n",
    "        result = 'Non-Toxic'\n",
    "\n",
    "    return result\n",
    "\n",
    "#Clc1ccc(cc1)C(c2ccc(Cl)cc2)C(Cl)(Cl)Cl\n",
    "#'COc1ccc(C(=O)Nc2ccccc2CCC2CCCCN2C)cc1'\n",
    "random_smile = 'CCN(CC)CCCN(c1ccccc1)C1CCc2ccccc21'\n",
    "print(answear(random_smile))\n",
    "\n",
    "\n",
    "\n"
   ],
   "metadata": {
    "collapsed": false,
    "pycharm": {
     "name": "#%%\n"
    }
   }
  },
  {
   "cell_type": "code",
   "execution_count": 22,
   "outputs": [
    {
     "name": "stdout",
     "output_type": "stream",
     "text": [
      "torch version: 1.13.1\n",
      "torchvision version: 0.14.1\n"
     ]
    }
   ],
   "source": [
    "# For this notebook to run with updated APIs, we need torch 1.12+ and torchvision 0.13+\n",
    "try:\n",
    "    import torch\n",
    "    import torchvision\n",
    "    assert int(torch.__version__.split(\".\")[1]) >= 12, \"torch version should be 1.12+\"\n",
    "    assert int(torchvision.__version__.split(\".\")[1]) >= 13, \"torchvision version should be 0.13+\"\n",
    "    print(f\"torch version: {torch.__version__}\")\n",
    "    print(f\"torchvision version: {torchvision.__version__}\")\n",
    "except:\n",
    "    print(f\"[INFO] torch/torchvision versions not as required, installing nightly versions.\")\n",
    "    !pip3 install -U torch torchvision torchaudio --extra-index-url https://download.pytorch.org/whl/cu113\n",
    "    import torch\n",
    "    import torchvision\n",
    "    print(f\"torch version: {torch.__version__}\")\n",
    "    print(f\"torchvision version: {torchvision.__version__}\")"
   ],
   "metadata": {
    "collapsed": false,
    "pycharm": {
     "name": "#%%\n"
    }
   }
  },
  {
   "cell_type": "code",
   "execution_count": 297,
   "outputs": [],
   "source": [
    "torch.save(model.state_dict(), \"./  GraphNN.pt\")"
   ],
   "metadata": {
    "collapsed": false,
    "pycharm": {
     "name": "#%%\n"
    }
   }
  },
  {
   "cell_type": "code",
   "execution_count": null,
   "outputs": [],
   "source": [],
   "metadata": {
    "collapsed": false,
    "pycharm": {
     "name": "#%%\n"
    }
   }
  }
 ],
 "metadata": {
  "kernelspec": {
   "display_name": "Python 3",
   "language": "python",
   "name": "python3"
  },
  "language_info": {
   "codemirror_mode": {
    "name": "ipython",
    "version": 2
   },
   "file_extension": ".py",
   "mimetype": "text/x-python",
   "name": "python",
   "nbconvert_exporter": "python",
   "pygments_lexer": "ipython2",
   "version": "2.7.6"
  }
 },
 "nbformat": 4,
 "nbformat_minor": 0
}